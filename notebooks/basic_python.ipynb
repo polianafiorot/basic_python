{
 "cells": [
  {
   "cell_type": "markdown",
   "metadata": {},
   "source": [
    "An e-commerce company, Store 1, recently began collecting data about its customers. Store 1’s goal is to better understand customer behavior and make data-driven decisions to improve their online experience.\n",
    "\n",
    "As part of the analytics team, your first task is to assess the quality of a sample of collected data and prepare it for future analysis."
   ]
  },
  {
   "cell_type": "markdown",
   "metadata": {},
   "source": [
    "# Quiz<br>\n",
    "Store 1 aims to ensure consistency in data collection. As part of this effort, the quality of the data collected about users needs to be assessed. You have been asked to review the data collected and propose changes. Below, you will see data about a specific user. Review the data and identify potential issues."
   ]
  },
  {
   "cell_type": "code",
   "execution_count": 277,
   "metadata": {},
   "outputs": [],
   "source": [
    "user_id = '32415'\n",
    "user_name = ' mike_reed '\n",
    "user_age = 32.0\n",
    "fav_categories = ['ELECTRONICS', 'SPORT', 'BOOKS']"
   ]
  },
  {
   "cell_type": "markdown",
   "metadata": {},
   "source": [
    "Options:\n",
    "\n",
    "- The data type of user_id should be changed from string to integer.\n",
    "\n",
    "- The user_name variable contains a string with unnecessary spacing and an underscore between the first and last names.\n",
    "\n",
    "- The data type of user_age is incorrect.\n",
    "\n",
    "- The fav_categories list contains strings in uppercase letters. Instead, we should convert the values ​​in the list to lowercase letters."
   ]
  },
  {
   "cell_type": "markdown",
   "metadata": {},
   "source": [
    "In the Markdown cell below, write the number of options you identified as problems. If you identified multiple problems, separate the numbers with commas. For example, if you think the numbers 1 and 3 are incorrect, write 1, 3, and explain why."
   ]
  },
  {
   "cell_type": "markdown",
   "metadata": {},
   "source": [
    "1. The user_id variable is a string and should be converted to a numeric type, since user_id is a number.\n",
    "2. The user_name variable should have its spaces removed, and the underscore between the first and last name should be replaced with a space.\n",
    "3. The user_age variable is a float and should be changed to an integer type, since all ages are integers.\n",
    "4. The fav_categories variable is storing strings in uppercase letters. For good data organization and good programming practice, we should store strings in lowercase letters."
   ]
  },
  {
   "cell_type": "markdown",
   "metadata": {},
   "source": [
    "# Task 1<br>\n",
    "\n",
    "Let's implement the changes we've identified. First, we want to fix the issues with the `user_name` variable. As we've seen, it has unnecessary spaces and an underscore as a separator between the first and last names. Your goal is to remove the spaces and then replace the underscore with a space."
   ]
  },
  {
   "cell_type": "code",
   "execution_count": 278,
   "metadata": {},
   "outputs": [
    {
     "name": "stdout",
     "output_type": "stream",
     "text": [
      "mike reed\n"
     ]
    }
   ],
   "source": [
    "user_name = ' mike_reed '\n",
    "user_name = user_name.strip() # spaces removed\n",
    "user_name = user_name.replace('_',' ')# the underscore between the first and last name should be replaced with a space\n",
    "\n",
    "print(user_name)"
   ]
  },
  {
   "cell_type": "markdown",
   "metadata": {},
   "source": [
    "# Task 2<br>\n",
    "Next, we need to split the updated user_name into two substrings to get a list that contains two values: the string for the first name and the string for the last name."
   ]
  },
  {
   "cell_type": "code",
   "execution_count": 279,
   "metadata": {},
   "outputs": [
    {
     "name": "stdout",
     "output_type": "stream",
     "text": [
      "['mike', 'reed']\n"
     ]
    }
   ],
   "source": [
    "user_name = 'mike reed'\n",
    "name_split = user_name.split() # split string user_name \n",
    "\n",
    "print(name_split)"
   ]
  },
  {
   "cell_type": "markdown",
   "metadata": {},
   "source": [
    "# Task 3<br>\n",
    "Great! Now we want to work with the `user_age` variable. As we mentioned before, it has an incorrect data type. Let's fix this issue by transforming the data type and printing the final result."
   ]
  },
  {
   "cell_type": "code",
   "execution_count": 280,
   "metadata": {},
   "outputs": [
    {
     "name": "stdout",
     "output_type": "stream",
     "text": [
      "32\n"
     ]
    }
   ],
   "source": [
    "user_age = 32.0\n",
    "user_age = int(user_age)# chaging user_age type to int\n",
    "\n",
    "print(user_age)"
   ]
  },
  {
   "cell_type": "markdown",
   "metadata": {},
   "source": [
    "# Task 4<br>\n",
    "As we know, data is not always perfect. We have to consider scenarios where the value of `user_age` cannot be converted to an integer. To prevent our system from failing, we need to take measures in advance.\n",
    "\n",
    "Write some code that tries to convert the `user_age` variable to an integer and assign the converted value to `user_age_int`. If the attempt fails, we will display a message asking the user to provide their age as a numeric value with the message: `Please provide your age as a numeric value.`"
   ]
  },
  {
   "cell_type": "code",
   "execution_count": 281,
   "metadata": {},
   "outputs": [
    {
     "name": "stdout",
     "output_type": "stream",
     "text": [
      "Forneça sua idade como um valor numérico.\n"
     ]
    }
   ],
   "source": [
    "user_age = 'thirty two' # user_age variable as string\n",
    "\n",
    "try:\n",
    "    user_age = int(user_age)  \n",
    "except:\n",
    "    print('Forneça sua idade como um valor numérico.')"
   ]
  },
  {
   "cell_type": "markdown",
   "metadata": {},
   "source": [
    "# Task 5<br>\n",
    "Finally, note that all favorite categories are stored in uppercase letters. To populate a new list called `fav_categories_low` with the same categories but in lowercase letters, iterate over the values ​​in the `fav_categories` list, modify them, and append the new values ​​to the `fav_categories_low` list. As always, print the final result."
   ]
  },
  {
   "cell_type": "code",
   "execution_count": 282,
   "metadata": {},
   "outputs": [
    {
     "name": "stdout",
     "output_type": "stream",
     "text": [
      "['electronics', 'sport', 'books']\n"
     ]
    }
   ],
   "source": [
    "fav_categories = ['ELECTRONICS', 'SPORT', 'BOOKS']\n",
    "fav_categories_low = []\n",
    "\n",
    "# code\n",
    "fav_categories[0] = fav_categories[0].lower() \n",
    "fav_categories[1] = fav_categories[1].lower() \n",
    "fav_categories[2] = fav_categories[2].lower() \n",
    "fav_categories_low = fav_categories\n",
    "\n",
    "print(fav_categories_low)"
   ]
  },
  {
   "cell_type": "markdown",
   "metadata": {},
   "source": [
    "# Task 6<br>\n",
    "\n",
    "We have gathered additional information about our users' spending habits, including the amount spent in each of their favorite categories. The administration is interested in the following metrics:\n",
    "\n",
    "- Total amount spent by the user\n",
    "- Minimum amount spent\n",
    "- Maximum amount spent\n",
    "\n",
    "Let's calculate and print these values:"
   ]
  },
  {
   "cell_type": "code",
   "execution_count": 283,
   "metadata": {},
   "outputs": [
    {
     "name": "stdout",
     "output_type": "stream",
     "text": [
      "1280\n",
      "894\n",
      "173\n"
     ]
    }
   ],
   "source": [
    "fav_categories_low = ['electronics', 'sport', 'books']\n",
    "spendings_per_category = [894, 213, 173]\n",
    "\n",
    "total_amount = sum(spendings_per_category)\n",
    "max_amount = max(spendings_per_category)\n",
    "min_amount = min(spendings_per_category)\n",
    "\n",
    "\n",
    "print(total_amount)\n",
    "print(max_amount)\n",
    "print(min_amount)"
   ]
  },
  {
   "cell_type": "markdown",
   "metadata": {},
   "source": [
    "# Task 7<br>\n",
    "\n",
    "The company wants to offer discounts to its loyal customers. Customers who make purchases totaling more than $1,500 are considered loyal and will receive a discount.\n",
    "\n",
    "Our goal is to create a while loop that checks the total amount spent and stops when it is reached. To simulate new purchases, the new_purchase variable outputs a number between 30 and 80 in each loop. This represents the amount of money spent on a new purchase, and is what you need to add to the total.\n",
    "\n",
    "Once the target amount is reached and the while loop is finished, the final amount will be printed."
   ]
  },
  {
   "cell_type": "code",
   "execution_count": 284,
   "metadata": {},
   "outputs": [
    {
     "name": "stdout",
     "output_type": "stream",
     "text": [
      "1508\n"
     ]
    }
   ],
   "source": [
    "from random import randint\n",
    "\n",
    "total_amount_spent = 0\n",
    "target_amount = 1500\n",
    "\n",
    "while total_amount_spent < target_amount: \n",
    "\tnew_purchase = randint(30, 80) # random number\n",
    "\ttotal_amount_spent += new_purchase\n",
    "\n",
    "print(total_amount_spent)"
   ]
  },
  {
   "cell_type": "markdown",
   "metadata": {},
   "source": [
    "# Task 8<br>\n",
    "\n",
    "Now we have all the information about a customer the way we want it. A company's management has asked us to find a way to summarize all the information about a user. Their goal is to create a formatted string that uses information from the variables `user_id`, `user_name`, and `user_age`.\n",
    "\n",
    "Here is the final string we want to create: `User 32415 is named mike and is 32 years old.`"
   ]
  },
  {
   "cell_type": "code",
   "execution_count": 285,
   "metadata": {},
   "outputs": [
    {
     "name": "stdout",
     "output_type": "stream",
     "text": [
      "Usuário 32415 chama-se mike e tem 32 anos\n"
     ]
    }
   ],
   "source": [
    "user_id = '32415'\n",
    "user_name = ['mike', 'reed']\n",
    "user_age = 32\n",
    "\n",
    "user_info = \"Usuário {} chama-se {} e tem {} anos\".format(user_id,user_name[0],user_age)\n",
    "\n",
    "print(user_info)"
   ]
  },
  {
   "cell_type": "markdown",
   "metadata": {},
   "source": [
    "As you may already know, companies collect and store data in a specific way. Store 1 wants to store all the information about its customers in a table.<br>\n",
    "\n",
    "| user_id | user_name | user_age | purchase_category | spending_per_category |\n",
    "| --- | --- | --- | --- | --- |\n",
    "| '32415' | 'mike', 'reed' | 32 | 'electronics', 'sport', 'books' | 894, 213, 173 |\n",
    "| '31980' | 'kate', 'morgan' | 24 | 'clothes', 'shoes' | 439, 390 |\n",
    "\n",
    "In technical terms, a table is simply a nested list that has a sublist for each user.\n",
    "\n",
    "Store 1 created this table for its users. It is stored in the `users` variable. Each sublist contains the user's ID, first and last name, age, favorite categories, and the amount spent in each category."
   ]
  },
  {
   "cell_type": "markdown",
   "metadata": {},
   "source": [
    "# Task 9<br>\n",
    "\n",
    "To calculate the company's revenue, follow these steps:\n",
    "\n",
    "1. Use a `for` loop to iterate over the `users` list.\n",
    "\n",
    "2. Get the list of expenses for each user and add the amounts together.\n",
    "\n",
    "3. Update the revenue value with the total for each user.\n",
    "\n",
    "This will give you the company's total revenue, which you'll print out at the end."
   ]
  },
  {
   "cell_type": "code",
   "execution_count": 286,
   "metadata": {},
   "outputs": [
    {
     "name": "stdout",
     "output_type": "stream",
     "text": [
      "2109\n"
     ]
    }
   ],
   "source": [
    "users = [\n",
    "\t  # first list\n",
    "    ['32415', ['mike', 'reed'], 32, ['electronics', 'sport', 'books'],\n",
    "        [894, 213, 173]\n",
    "    ], # end first list\n",
    "\n",
    "    # second list\n",
    "    ['31980', ['kate', 'morgan'], 24, ['clothes', 'shoes'],\n",
    "        [439, 390]\n",
    "    ] # end second list\n",
    "]\n",
    "\n",
    "revenue = 0\n",
    "\n",
    "for user in users:\n",
    "\tspendings_list = user[-1]# # extract the list of expenses for each user and add the values\n",
    "\ttotal_spendings = sum(spendings_list) # sum spendings\n",
    "\trevenue += total_spendings # update revenue\n",
    "    \n",
    "\n",
    "\n",
    "print(revenue)"
   ]
  },
  {
   "cell_type": "markdown",
   "metadata": {},
   "source": [
    "# Task 10<br>\n",
    "\n",
    "Use a for loop to iterate through the list of users we provided and print out the names of customers under the age of 30."
   ]
  },
  {
   "cell_type": "code",
   "execution_count": 287,
   "metadata": {},
   "outputs": [
    {
     "name": "stdout",
     "output_type": "stream",
     "text": [
      "kate morgan\n",
      "samantha smith\n",
      "emily brown\n",
      "jose martinez\n",
      "james lee\n"
     ]
    }
   ],
   "source": [
    "users = [\n",
    "    ['32415', ['mike', 'reed'], 32, ['electronics', 'sport', 'books'],\n",
    "     [894, 213, 173]],\n",
    "    ['31980', ['kate', 'morgan'], 24, ['clothes', 'books'], [439,\n",
    "     390]],\n",
    "    ['32156', ['john', 'doe'], 37, ['electronics', 'home', 'food'],\n",
    "     [459, 120, 99]],\n",
    "    ['32761', ['samantha', 'smith'], 29, ['clothes', 'electronics',\n",
    "     'beauty'], [299, 679, 85]],\n",
    "    ['32984', ['david', 'white'], 41, ['books', 'home', 'sport'], [234,\n",
    "     329, 243]],\n",
    "    ['33001', ['emily', 'brown'], 26, ['beauty', 'home', 'food'], [213,\n",
    "     659, 79]],\n",
    "    ['33767', ['maria', 'garcia'], 33, ['clothes', 'food', 'beauty'],\n",
    "     [499, 189, 63]],\n",
    "    ['33912', ['jose', 'martinez'], 22, ['sport', 'electronics', 'home'\n",
    "     ], [259, 549, 109]],\n",
    "    ['34009', ['lisa', 'wilson'], 35, ['home', 'books', 'clothes'],\n",
    "     [329, 189, 329]],\n",
    "    ['34278', ['james', 'lee'], 28, ['beauty', 'clothes', 'electronics'\n",
    "     ], [189, 299, 579]],\n",
    "    ]\n",
    "\n",
    "\n",
    "for user in users:\n",
    "    if user[2]<30:\n",
    "        print(' '.join(user[1]))"
   ]
  },
  {
   "cell_type": "markdown",
   "metadata": {},
   "source": [
    "# Task 11<br>\n",
    "\n",
    "Let's combine tasks 9 and 10 and print out the names of users under 30 with total spending over $1,000."
   ]
  },
  {
   "cell_type": "code",
   "execution_count": 288,
   "metadata": {},
   "outputs": [
    {
     "name": "stdout",
     "output_type": "stream",
     "text": [
      "samantha smith\n",
      "james lee\n"
     ]
    }
   ],
   "source": [
    "users = [\n",
    "    ['32415', ['mike', 'reed'], 32, ['electronics', 'sport', 'books'],\n",
    "     [894, 213, 173]],\n",
    "    ['31980', ['kate', 'morgan'], 24, ['clothes', 'books'], [439,\n",
    "     390]],\n",
    "    ['32156', ['john', 'doe'], 37, ['electronics', 'home', 'food'],\n",
    "     [459, 120, 99]],\n",
    "    ['32761', ['samantha', 'smith'], 29, ['clothes', 'electronics',\n",
    "     'beauty'], [299, 679, 85]],\n",
    "    ['32984', ['david', 'white'], 41, ['books', 'home', 'sport'], [234,\n",
    "     329, 243]],\n",
    "    ['33001', ['emily', 'brown'], 26, ['beauty', 'home', 'food'], [213,\n",
    "     659, 79]],\n",
    "    ['33767', ['maria', 'garcia'], 33, ['clothes', 'food', 'beauty'],\n",
    "     [499, 189, 63]],\n",
    "    ['33912', ['jose', 'martinez'], 22, ['sport', 'electronics', 'home'\n",
    "     ], [259, 549, 109]],\n",
    "    ['34009', ['lisa', 'wilson'], 35, ['home', 'books', 'clothes'],\n",
    "     [329, 189, 329]],\n",
    "    ['34278', ['james', 'lee'], 28, ['beauty', 'clothes', 'electronics'\n",
    "     ], [189, 299, 579]],\n",
    "    ]\n",
    "\n",
    "\n",
    "for user in users:    \n",
    "        spendings_list = user[-1]\n",
    "        total_spendings = sum(spendings_list)\n",
    "        if user[2]<30 and total_spendings>1000:\n",
    "            print(' '.join(user[1]))"
   ]
  },
  {
   "cell_type": "markdown",
   "metadata": {},
   "source": [
    "# Task 12<br>\n",
    "\n",
    "Now let's print the name and age of all users who purchased clothes. Print the name and age in the same print statement."
   ]
  },
  {
   "cell_type": "code",
   "execution_count": 289,
   "metadata": {},
   "outputs": [
    {
     "name": "stdout",
     "output_type": "stream",
     "text": [
      "kate morgan 24\n",
      "samantha smith 29\n",
      "maria garcia 33\n",
      "lisa wilson 35\n",
      "james lee 28\n"
     ]
    }
   ],
   "source": [
    "users = [\n",
    "    ['32415', ['mike', 'reed'], 32, ['electronics', 'sport', 'books'],\n",
    "     [894, 213, 173]],\n",
    "    ['31980', ['kate', 'morgan'], 24, ['clothes', 'books'], [439,\n",
    "     390]],\n",
    "    ['32156', ['john', 'doe'], 37, ['electronics', 'home', 'food'],\n",
    "     [459, 120, 99]],\n",
    "    ['32761', ['samantha', 'smith'], 29, ['clothes', 'electronics',\n",
    "     'beauty'], [299, 679, 85]],\n",
    "    ['32984', ['david', 'white'], 41, ['books', 'home', 'sport'], [234,\n",
    "     329, 243]],\n",
    "    ['33001', ['emily', 'brown'], 26, ['beauty', 'home', 'food'], [213,\n",
    "     659, 79]],\n",
    "    ['33767', ['maria', 'garcia'], 33, ['clothes', 'food', 'beauty'],\n",
    "     [499, 189, 63]],\n",
    "    ['33912', ['jose', 'martinez'], 22, ['sport', 'electronics', 'home'\n",
    "     ], [259, 549, 109]],\n",
    "    ['34009', ['lisa', 'wilson'], 35, ['home', 'books', 'clothes'],\n",
    "     [329, 189, 329]],\n",
    "    ['34278', ['james', 'lee'], 28, ['beauty', 'clothes', 'electronics'\n",
    "     ], [189, 299, 579]],\n",
    "    ]\n",
    "\n",
    "\n",
    "\n",
    "for user in users:\n",
    "    if 'clothes' in user[3]:\n",
    "            print(' '.join(user[1]), user[2])"
   ]
  }
 ],
 "metadata": {
  "kernelspec": {
   "display_name": "base",
   "language": "python",
   "name": "python3"
  },
  "language_info": {
   "codemirror_mode": {
    "name": "ipython",
    "version": 3
   },
   "file_extension": ".py",
   "mimetype": "text/x-python",
   "name": "python",
   "nbconvert_exporter": "python",
   "pygments_lexer": "ipython3",
   "version": "3.12.4"
  }
 },
 "nbformat": 4,
 "nbformat_minor": 2
}
